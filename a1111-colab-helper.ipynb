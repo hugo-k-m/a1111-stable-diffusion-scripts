{
 "cells": [
  {
   "cell_type": "markdown",
   "metadata": {},
   "source": [
    "# Connect to Google Drive"
   ]
  },
  {
   "cell_type": "code",
   "execution_count": null,
   "metadata": {},
   "outputs": [],
   "source": [
    "from google.colab import drive\n",
    "drive.mount('/content/drive')"
   ]
  },
  {
   "cell_type": "markdown",
   "id": "e15deab3-2e79-481f-90fa-e3c5ae00a726",
   "metadata": {},
   "source": [
    "# Dependencies"
   ]
  },
  {
   "cell_type": "code",
   "execution_count": 1,
   "id": "7a549ae1-e23f-420d-b7a0-253215ca4ad7",
   "metadata": {
    "execution": {
     "iopub.execute_input": "2023-06-07T16:44:15.884098Z",
     "iopub.status.busy": "2023-06-07T16:44:15.883841Z",
     "iopub.status.idle": "2023-06-07T16:44:18.983824Z",
     "shell.execute_reply": "2023-06-07T16:44:18.983272Z",
     "shell.execute_reply.started": "2023-06-07T16:44:15.884078Z"
    }
   },
   "outputs": [],
   "source": [
    "with open('/dev/null', 'w') as devnull:\n",
    "    import os, time, importlib\n",
    "\n",
    "open('/content/drive/MyDrive/a1111_helper_scripts/fetch_models.py', 'r')\n",
    "open('/content/drive/MyDrive/a1111_helper_scripts/civitai_checkpoints.py', 'r')\n",
    "open('/content/drive/MyDrive/a1111_helper_scripts/civitai_lora.py', 'r')\n",
    "os.chdir('/content/drive/MyDrive/a1111_helper_scripts')\n",
    "time.sleep(3)\n",
    "\n",
    "import fetch_models, civitai_checkpoints, civitai_lora, controlnet_links\n",
    "importlib.reload(fetch_models)\n",
    "from fetch_models import manage_models\n",
    "importlib.reload(civitai_checkpoints)\n",
    "from civitai_checkpoints import checkpoint_links\n",
    "importlib.reload(civitai_lora)\n",
    "from civitai_lora import lora_links\n",
    "importlib.reload(controlnet_links)\n",
    "from controlnet_links import controlnet_links"
   ]
  },
  {
   "cell_type": "markdown",
   "id": "dd78c0be-a011-4462-8373-c594a2b560ca",
   "metadata": {},
   "source": [
    "# List LoRA/Model/VAE"
   ]
  },
  {
   "cell_type": "code",
   "execution_count": null,
   "id": "5edb0534-e693-47b3-b267-f9579ab7e02b",
   "metadata": {
    "execution": {
     "iopub.execute_input": "2023-06-07T17:00:18.654992Z",
     "iopub.status.busy": "2023-06-07T17:00:18.654843Z",
     "iopub.status.idle": "2023-06-07T17:00:19.187259Z",
     "shell.execute_reply": "2023-06-07T17:00:19.186532Z",
     "shell.execute_reply.started": "2023-06-07T17:00:18.654973Z"
    }
   },
   "outputs": [],
   "source": [
    "!nvidia-smi"
   ]
  },
  {
   "cell_type": "markdown",
   "metadata": {},
   "source": [
    "# Download ControlNet\n"
   ]
  },
  {
   "cell_type": "code",
   "execution_count": null,
   "metadata": {},
   "outputs": [],
   "source": [
    "controlnet_name = \"\"\n",
    "LORA_LINK = controlnet_links.get(controlnet_name)\n",
    "\n",
    "lora = manage_models.controlnet_dl(controlnet_name, LORA_LINK)\n"
   ]
  },
  {
   "cell_type": "markdown",
   "id": "e4275edc-325a-4074-a0ac-b6c44859e962",
   "metadata": {},
   "source": [
    "# Download LoRA"
   ]
  },
  {
   "cell_type": "code",
   "execution_count": 12,
   "id": "04c74755-c657-4bb4-95fb-f95dca037715",
   "metadata": {
    "execution": {
     "iopub.execute_input": "2023-06-07T14:53:55.433439Z",
     "iopub.status.busy": "2023-06-07T14:53:55.433129Z",
     "iopub.status.idle": "2023-06-07T14:54:00.787653Z",
     "shell.execute_reply": "2023-06-07T14:54:00.784391Z",
     "shell.execute_reply.started": "2023-06-07T14:53:55.433417Z"
    }
   },
   "outputs": [
    {
     "name": "stdout",
     "output_type": "stream",
     "text": [
      "\u001b[1;32mLora downloaded.\n"
     ]
    }
   ],
   "source": [
    "lora_name = \"\"\n",
    "LORA_LINK = lora_links.get(lora_name)\n",
    "\n",
    "lora = manage_models.loradl(lora_name, LORA_LINK)"
   ]
  },
  {
   "cell_type": "markdown",
   "id": "89d853d7-de13-4da0-917b-d3e5f06c29f8",
   "metadata": {},
   "source": [
    "# Download Checkpoint"
   ]
  },
  {
   "cell_type": "code",
   "execution_count": 2,
   "id": "580ef0c2-f3d7-4197-9828-cdace558e60a",
   "metadata": {
    "execution": {
     "iopub.execute_input": "2023-06-07T16:44:35.463747Z",
     "iopub.status.busy": "2023-06-07T16:44:35.463474Z",
     "iopub.status.idle": "2023-06-07T17:00:18.650546Z",
     "shell.execute_reply": "2023-06-07T17:00:18.649902Z",
     "shell.execute_reply.started": "2023-06-07T16:44:35.463726Z"
    }
   },
   "outputs": [
    {
     "name": "stdout",
     "output_type": "stream",
     "text": [
      "\u001b[1;32mModel downloaded.\n"
     ]
    }
   ],
   "source": [
    "checkpoint_name = \"\"\n",
    "MODEL_LINK = checkpoint_links.get(checkpoint_name)\n",
    "\n",
    "model = manage_models.checkpointdl(checkpoint_name, MODEL_LINK)"
   ]
  },
  {
   "cell_type": "markdown",
   "id": "23989805-6e9a-4427-a5b3-d3ff32531f6f",
   "metadata": {},
   "source": [
    "# Download VAE"
   ]
  },
  {
   "cell_type": "code",
   "execution_count": 9,
   "id": "35a091a7-80c8-4b89-bb8b-8b4cf15bd476",
   "metadata": {
    "execution": {
     "iopub.execute_input": "2023-06-07T14:29:25.417386Z",
     "iopub.status.busy": "2023-06-07T14:29:25.416458Z",
     "iopub.status.idle": "2023-06-07T14:29:40.359367Z",
     "shell.execute_reply": "2023-06-07T14:29:40.358813Z",
     "shell.execute_reply.started": "2023-06-07T14:29:25.417351Z"
    }
   },
   "outputs": [
    {
     "name": "stdout",
     "output_type": "stream",
     "text": [
      "\u001b[1;32mVAE downloaded.\n"
     ]
    }
   ],
   "source": [
    "vae_name = \"\"\n",
    "VAE_LINK = \"\"\n",
    "\n",
    "vae = manage_models.vaedl(vae_name, VAE_LINK)"
   ]
  },
  {
   "cell_type": "markdown",
   "id": "af94e48d-1072-41ce-8c3c-ce88a174c6c4",
   "metadata": {},
   "source": [
    "# Delete LoRA"
   ]
  },
  {
   "cell_type": "code",
   "execution_count": 18,
   "id": "ea6efd49-3d77-4d89-a5a9-b9f68c29f12e",
   "metadata": {
    "execution": {
     "iopub.execute_input": "2023-06-04T10:28:08.505084Z",
     "iopub.status.busy": "2023-06-04T10:28:08.504795Z",
     "iopub.status.idle": "2023-06-04T10:28:08.511571Z",
     "shell.execute_reply": "2023-06-04T10:28:08.510923Z",
     "shell.execute_reply.started": "2023-06-04T10:28:08.505062Z"
    }
   },
   "outputs": [
    {
     "name": "stdout",
     "output_type": "stream",
     "text": [
      "\u001b[1;32mLora deletes.\n"
     ]
    }
   ],
   "source": [
    "lora_name = \"\"\n",
    "\n",
    "lora = manage_models.loradl(lora_name)"
   ]
  },
  {
   "cell_type": "markdown",
   "id": "29e166bf-572d-4825-86bc-e87190b082f5",
   "metadata": {},
   "source": [
    "# Delete Checkpoint"
   ]
  },
  {
   "cell_type": "code",
   "execution_count": null,
   "id": "76d72172-631f-4417-a8d1-2183e38a2625",
   "metadata": {},
   "outputs": [],
   "source": []
  }
 ],
 "metadata": {
  "kernelspec": {
   "display_name": "Python 3 (ipykernel)",
   "language": "python",
   "name": "python3"
  },
  "language_info": {
   "codemirror_mode": {
    "name": "ipython",
    "version": 3
   },
   "file_extension": ".py",
   "mimetype": "text/x-python",
   "name": "python",
   "nbconvert_exporter": "python",
   "pygments_lexer": "ipython3",
   "version": "3.9.16"
  }
 },
 "nbformat": 4,
 "nbformat_minor": 5
}
